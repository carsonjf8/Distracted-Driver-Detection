{
 "cells": [
  {
   "cell_type": "code",
   "execution_count": 1,
   "metadata": {
    "_cell_guid": "b1076dfc-b9ad-4769-8c92-a6c4dae69d19",
    "_uuid": "8f2839f25d086af736a60e9eeb907d3b93b6e0e5",
    "execution": {
     "iopub.execute_input": "2023-04-29T06:24:18.422099Z",
     "iopub.status.busy": "2023-04-29T06:24:18.421500Z",
     "iopub.status.idle": "2023-04-29T06:24:25.441669Z",
     "shell.execute_reply": "2023-04-29T06:24:25.440524Z"
    },
    "papermill": {
     "duration": 7.030177,
     "end_time": "2023-04-29T06:24:25.444566",
     "exception": false,
     "start_time": "2023-04-29T06:24:18.414389",
     "status": "completed"
    },
    "tags": []
   },
   "outputs": [],
   "source": [
    "# imports\n",
    "import os\n",
    "import time\n",
    "\n",
    "import numpy as np\n",
    "from PIL import Image\n",
    "import matplotlib.pyplot as plt\n",
    "\n",
    "import tensorflow as tf\n",
    "from keras.layers import Conv2D, Dense, Flatten, MaxPool2D, InputLayer, Resizing, Rescaling, BatchNormalization\n",
    "from keras import Sequential"
   ]
  },
  {
   "cell_type": "code",
   "execution_count": 2,
   "metadata": {
    "execution": {
     "iopub.execute_input": "2023-04-29T06:24:25.454167Z",
     "iopub.status.busy": "2023-04-29T06:24:25.453528Z",
     "iopub.status.idle": "2023-04-29T06:24:25.458378Z",
     "shell.execute_reply": "2023-04-29T06:24:25.457376Z"
    },
    "papermill": {
     "duration": 0.011813,
     "end_time": "2023-04-29T06:24:25.460510",
     "exception": false,
     "start_time": "2023-04-29T06:24:25.448697",
     "status": "completed"
    },
    "tags": []
   },
   "outputs": [],
   "source": [
    "# hyperparameters and data paths\n",
    "DATA_FOLDER = '/kaggle/input/state-farm-distracted-driver-detection/imgs'\n",
    "BATCH_SIZE = 32\n",
    "RESIZED_WIDTH = 256\n",
    "RESIZED_HEIGHT = 256"
   ]
  },
  {
   "cell_type": "code",
   "execution_count": 3,
   "metadata": {
    "execution": {
     "iopub.execute_input": "2023-04-29T06:24:25.469189Z",
     "iopub.status.busy": "2023-04-29T06:24:25.468906Z",
     "iopub.status.idle": "2023-04-29T06:24:40.991416Z",
     "shell.execute_reply": "2023-04-29T06:24:40.990392Z"
    },
    "papermill": {
     "duration": 15.529896,
     "end_time": "2023-04-29T06:24:40.994088",
     "exception": false,
     "start_time": "2023-04-29T06:24:25.464192",
     "status": "completed"
    },
    "tags": []
   },
   "outputs": [
    {
     "name": "stdout",
     "output_type": "stream",
     "text": [
      "Found 22424 files belonging to 10 classes.\n",
      "Using 17940 files for training.\n",
      "Using 4484 files for validation.\n"
     ]
    }
   ],
   "source": [
    "# train and val datasets with optional data augmentation\n",
    "train_ds, val_ds = tf.keras.utils.image_dataset_from_directory(\n",
    "    os.path.join(DATA_FOLDER, 'train'),\n",
    "    #label_mode='categorical',\n",
    "    validation_split=0.2,\n",
    "    image_size=(480, 640),\n",
    "    subset=\"both\",\n",
    "    seed=123,\n",
    "    batch_size=BATCH_SIZE\n",
    ")\n",
    "#normalization_layer = tf.keras.layers.Rescaling(1./255)\n",
    "#train_ds = train_ds.map(lambda x, y: (normalization_layer(x), y))\n",
    "#val_ds = val_ds.map(lambda x, y: (normalization_layer(x), y))"
   ]
  },
  {
   "cell_type": "code",
   "execution_count": 4,
   "metadata": {
    "execution": {
     "iopub.execute_input": "2023-04-29T06:24:41.004655Z",
     "iopub.status.busy": "2023-04-29T06:24:41.003071Z",
     "iopub.status.idle": "2023-04-29T06:24:42.168890Z",
     "shell.execute_reply": "2023-04-29T06:24:42.167875Z"
    },
    "papermill": {
     "duration": 1.173361,
     "end_time": "2023-04-29T06:24:42.171495",
     "exception": false,
     "start_time": "2023-04-29T06:24:40.998134",
     "status": "completed"
    },
    "tags": []
   },
   "outputs": [],
   "source": [
    "# create t4est data set and augmentation\n",
    "#resized_layer = tf.keras.layers.Resizing(IMG_HEIGHT, IMG_WIDTH)\n",
    "normalization_layer = tf.keras.layers.Rescaling(1./255)\n",
    "def load(path):\n",
    "    as_string = tf.io.read_file(path)\n",
    "    as_image = tf.image.decode_image(as_string, channels=3)\n",
    "    #resized = resized_layer(as_image)\n",
    "    #normalized = tf.divide(resized, 255)\n",
    "    #normalized = normalization_layer(resized)\n",
    "    return as_image, path\n",
    "test_folder = os.path.join(DATA_FOLDER, 'test')\n",
    "test_files = os.listdir(test_folder)\n",
    "test_files = [os.path.join(test_folder, fn) for fn in test_files]\n",
    "test_ds = tf.data.Dataset.from_tensor_slices(test_files).map(load).batch(BATCH_SIZE)"
   ]
  },
  {
   "cell_type": "code",
   "execution_count": 5,
   "metadata": {
    "execution": {
     "iopub.execute_input": "2023-04-29T06:24:42.180652Z",
     "iopub.status.busy": "2023-04-29T06:24:42.180337Z",
     "iopub.status.idle": "2023-04-29T06:24:42.187903Z",
     "shell.execute_reply": "2023-04-29T06:24:42.186841Z"
    },
    "papermill": {
     "duration": 0.014769,
     "end_time": "2023-04-29T06:24:42.190335",
     "exception": false,
     "start_time": "2023-04-29T06:24:42.175566",
     "status": "completed"
    },
    "tags": []
   },
   "outputs": [
    {
     "name": "stdout",
     "output_type": "stream",
     "text": [
      "561\n",
      "141\n",
      "2492\n"
     ]
    }
   ],
   "source": [
    "# make sure datasets were loaded correctly\n",
    "print(len(train_ds))\n",
    "print(len(val_ds))\n",
    "print(len(test_ds))"
   ]
  },
  {
   "cell_type": "code",
   "execution_count": 6,
   "metadata": {
    "execution": {
     "iopub.execute_input": "2023-04-29T06:24:42.199084Z",
     "iopub.status.busy": "2023-04-29T06:24:42.198809Z",
     "iopub.status.idle": "2023-04-29T06:24:44.587865Z",
     "shell.execute_reply": "2023-04-29T06:24:44.586479Z"
    },
    "papermill": {
     "duration": 2.396191,
     "end_time": "2023-04-29T06:24:44.590347",
     "exception": false,
     "start_time": "2023-04-29T06:24:42.194156",
     "status": "completed"
    },
    "tags": []
   },
   "outputs": [
    {
     "name": "stdout",
     "output_type": "stream",
     "text": [
      "(32, 480, 640, 3)\n",
      "(32, 480, 640, 3)\n",
      "(32, 480, 640, 3)\n"
     ]
    }
   ],
   "source": [
    "# make sure datasets were loaded correctly\n",
    "for img, _ in train_ds:\n",
    "    print(img.shape)\n",
    "    break\n",
    "for img, _ in val_ds:\n",
    "    print(img.shape)\n",
    "    break\n",
    "for img, _ in test_ds:\n",
    "    print(img.shape)\n",
    "    break"
   ]
  },
  {
   "cell_type": "code",
   "execution_count": 7,
   "metadata": {
    "execution": {
     "iopub.execute_input": "2023-04-29T06:24:44.599939Z",
     "iopub.status.busy": "2023-04-29T06:24:44.599638Z",
     "iopub.status.idle": "2023-04-29T06:24:44.812187Z",
     "shell.execute_reply": "2023-04-29T06:24:44.811147Z"
    },
    "papermill": {
     "duration": 0.220566,
     "end_time": "2023-04-29T06:24:44.815070",
     "exception": false,
     "start_time": "2023-04-29T06:24:44.594504",
     "status": "completed"
    },
    "tags": []
   },
   "outputs": [],
   "source": [
    "# define architecture\n",
    "# used for the custom CNNs\n",
    "model = Sequential([\n",
    "    #InputLayer((256, 256, 3)),\n",
    "    #Resizing(RESIZED_HEIGHT, RESIZED_WIDTH),\n",
    "    #Rescaling(1./255),\n",
    "    #Conv2D(filters=32, kernel_size=3, strides=1, activation='relu', padding='same'),\n",
    "    #MaxPool2D(pool_size=(2, 2)),\n",
    "    #Conv2D(filters=32, kernel_size=3, strides=1, activation='relu', padding='same'),\n",
    "    #BatchNormalization(),\n",
    "    #MaxPool2D(pool_size=(2, 2)),\n",
    "    #Conv2D(filters=64, kernel_size=3, strides=1, activation='relu', padding='same'),\n",
    "    #MaxPool2D(pool_size=(2, 2)),\n",
    "    #Conv2D(filters=64, kernel_size=3, strides=1, activation='relu', padding='same'),\n",
    "    #BatchNormalization(),\n",
    "    #MaxPool2D(pool_size=(2, 2)),\n",
    "    #Conv2D(filters=128, kernel_size=3, strides=1, activation='relu', padding='same'),\n",
    "    #MaxPool2D(pool_size=(2, 2)),\n",
    "    #Flatten(),\n",
    "    #Dense(units=512, activation='relu'),\n",
    "    #Dense(units=128, activation='relu'),\n",
    "    #Dense(units=10, activation='relu'),\n",
    "    \n",
    "    #InputLayer((480, 640, 3)),\n",
    "    #Conv2D(filters=32, kernel_size=5, strides=1, activation='relu', padding='same'),\n",
    "    #MaxPool2D(pool_size=(2, 2)), # (240, 320)\n",
    "    #Conv2D(filters=64, kernel_size=5, strides=1, activation='relu', padding='same'),\n",
    "    #MaxPool2D(pool_size=(2, 2)), # (120, 160)\n",
    "    #Conv2D(filters=64, kernel_size=3, strides=1, activation='relu', padding='same'),\n",
    "    #MaxPool2D(pool_size=(2, 2)), # (60, 80)\n",
    "    #Conv2D(filters=128, kernel_size=3, strides=1, activation='relu', padding='same'),\n",
    "    #MaxPool2D(pool_size=(2, 2)), # (30, 40)\n",
    "    #Conv2D(filters=128, kernel_size=3, strides=1, activation='relu', padding='same'),\n",
    "    #MaxPool2D(pool_size=(2, 2)), # (15, 20)\n",
    "    #Conv2D(filters=256, kernel_size=3, strides=1, activation='relu', padding='same'),\n",
    "    #MaxPool2D(pool_size=(2, 2)), # (7, 10)\n",
    "    #Flatten(),\n",
    "    #Dense(units=64, activation='relu'),\n",
    "    #Dense(units=64, activation='relu'),\n",
    "    #Dense(units=10, activation='softmax'), # number of classes\n",
    "    \n",
    "    InputLayer((480, 640, 3)),\n",
    "    Conv2D(filters=32, kernel_size=5, strides=1, activation='relu', padding='same'),\n",
    "    MaxPool2D(pool_size=(2, 2)),\n",
    "    Conv2D(filters=32, kernel_size=3, strides=1, activation='relu', padding='same'),\n",
    "    BatchNormalization(),\n",
    "    MaxPool2D(pool_size=(2, 2)),\n",
    "    \n",
    "    Conv2D(filters=64, kernel_size=3, strides=1, activation='relu', padding='same'),\n",
    "    MaxPool2D(pool_size=(2, 2)),\n",
    "    Conv2D(filters=64, kernel_size=3, strides=1, activation='relu', padding='same'),\n",
    "    BatchNormalization(),\n",
    "    MaxPool2D(pool_size=(2, 2)),\n",
    "    \n",
    "    Conv2D(filters=128, kernel_size=3, strides=1, activation='relu', padding='same'),\n",
    "    MaxPool2D(pool_size=(2, 2)),\n",
    "    Conv2D(filters=128, kernel_size=3, strides=1, activation='relu', padding='same'),\n",
    "    BatchNormalization(),\n",
    "    MaxPool2D(pool_size=(2, 2)),\n",
    "    \n",
    "    Flatten(),\n",
    "    Dense(units=512, activation='relu'),\n",
    "    Dense(units=128, activation='relu'),\n",
    "    Dense(units=10, activation='softmax'), # number of classes\n",
    "])"
   ]
  },
  {
   "cell_type": "code",
   "execution_count": 8,
   "metadata": {
    "execution": {
     "iopub.execute_input": "2023-04-29T06:24:44.824963Z",
     "iopub.status.busy": "2023-04-29T06:24:44.824645Z",
     "iopub.status.idle": "2023-04-29T06:24:44.830792Z",
     "shell.execute_reply": "2023-04-29T06:24:44.829736Z"
    },
    "papermill": {
     "duration": 0.013611,
     "end_time": "2023-04-29T06:24:44.832946",
     "exception": false,
     "start_time": "2023-04-29T06:24:44.819335",
     "status": "completed"
    },
    "tags": []
   },
   "outputs": [],
   "source": [
    "# define loss function\n",
    "class LogLoss(tf.keras.losses.Loss):\n",
    "  def __init__(self):\n",
    "    super().__init__()\n",
    "  def call(self, y_true, y_pred):\n",
    "    loss_mult = tf.math.multiply(y_pred, y_true)\n",
    "    loss_sum = tf.math.reduce_sum(loss_mult, 1)\n",
    "    loss_log = tf.math.log(loss_sum)\n",
    "    loss_mean = tf.math.reduce_mean(loss_log)\n",
    "    loss_neg = tf.math.negative(loss_mean)\n",
    "    return loss_neg"
   ]
  },
  {
   "cell_type": "code",
   "execution_count": 9,
   "metadata": {
    "execution": {
     "iopub.execute_input": "2023-04-29T06:24:44.842105Z",
     "iopub.status.busy": "2023-04-29T06:24:44.841819Z",
     "iopub.status.idle": "2023-04-29T06:24:44.858931Z",
     "shell.execute_reply": "2023-04-29T06:24:44.858004Z"
    },
    "papermill": {
     "duration": 0.024261,
     "end_time": "2023-04-29T06:24:44.861125",
     "exception": false,
     "start_time": "2023-04-29T06:24:44.836864",
     "status": "completed"
    },
    "tags": []
   },
   "outputs": [],
   "source": [
    "# build model\n",
    "model.compile(\n",
    "    optimizer='adam',\n",
    "    loss=tf.keras.losses.SparseCategoricalCrossentropy(from_logits=True),\n",
    "    metrics=['accuracy']\n",
    ")"
   ]
  },
  {
   "cell_type": "code",
   "execution_count": 10,
   "metadata": {
    "execution": {
     "iopub.execute_input": "2023-04-29T06:24:44.871536Z",
     "iopub.status.busy": "2023-04-29T06:24:44.870044Z",
     "iopub.status.idle": "2023-04-29T06:24:44.923230Z",
     "shell.execute_reply": "2023-04-29T06:24:44.922332Z"
    },
    "papermill": {
     "duration": 0.091281,
     "end_time": "2023-04-29T06:24:44.956399",
     "exception": false,
     "start_time": "2023-04-29T06:24:44.865118",
     "status": "completed"
    },
    "tags": []
   },
   "outputs": [
    {
     "name": "stdout",
     "output_type": "stream",
     "text": [
      "Model: \"sequential\"\n",
      "_________________________________________________________________\n",
      " Layer (type)                Output Shape              Param #   \n",
      "=================================================================\n",
      " conv2d (Conv2D)             (None, 480, 640, 32)      2432      \n",
      "                                                                 \n",
      " max_pooling2d (MaxPooling2D  (None, 240, 320, 32)     0         \n",
      " )                                                               \n",
      "                                                                 \n",
      " conv2d_1 (Conv2D)           (None, 240, 320, 32)      9248      \n",
      "                                                                 \n",
      " batch_normalization (BatchN  (None, 240, 320, 32)     128       \n",
      " ormalization)                                                   \n",
      "                                                                 \n",
      " max_pooling2d_1 (MaxPooling  (None, 120, 160, 32)     0         \n",
      " 2D)                                                             \n",
      "                                                                 \n",
      " conv2d_2 (Conv2D)           (None, 120, 160, 64)      18496     \n",
      "                                                                 \n",
      " max_pooling2d_2 (MaxPooling  (None, 60, 80, 64)       0         \n",
      " 2D)                                                             \n",
      "                                                                 \n",
      " conv2d_3 (Conv2D)           (None, 60, 80, 64)        36928     \n",
      "                                                                 \n",
      " batch_normalization_1 (Batc  (None, 60, 80, 64)       256       \n",
      " hNormalization)                                                 \n",
      "                                                                 \n",
      " max_pooling2d_3 (MaxPooling  (None, 30, 40, 64)       0         \n",
      " 2D)                                                             \n",
      "                                                                 \n",
      " conv2d_4 (Conv2D)           (None, 30, 40, 128)       73856     \n",
      "                                                                 \n",
      " max_pooling2d_4 (MaxPooling  (None, 15, 20, 128)      0         \n",
      " 2D)                                                             \n",
      "                                                                 \n",
      " conv2d_5 (Conv2D)           (None, 15, 20, 128)       147584    \n",
      "                                                                 \n",
      " batch_normalization_2 (Batc  (None, 15, 20, 128)      512       \n",
      " hNormalization)                                                 \n",
      "                                                                 \n",
      " max_pooling2d_5 (MaxPooling  (None, 7, 10, 128)       0         \n",
      " 2D)                                                             \n",
      "                                                                 \n",
      " flatten (Flatten)           (None, 8960)              0         \n",
      "                                                                 \n",
      " dense (Dense)               (None, 512)               4588032   \n",
      "                                                                 \n",
      " dense_1 (Dense)             (None, 128)               65664     \n",
      "                                                                 \n",
      " dense_2 (Dense)             (None, 10)                1290      \n",
      "                                                                 \n",
      "=================================================================\n",
      "Total params: 4,944,426\n",
      "Trainable params: 4,943,978\n",
      "Non-trainable params: 448\n",
      "_________________________________________________________________\n"
     ]
    }
   ],
   "source": [
    "# print architecture overview\n",
    "model.summary()"
   ]
  },
  {
   "cell_type": "code",
   "execution_count": 11,
   "metadata": {
    "execution": {
     "iopub.execute_input": "2023-04-29T06:24:44.972432Z",
     "iopub.status.busy": "2023-04-29T06:24:44.972116Z",
     "iopub.status.idle": "2023-04-29T06:24:44.979049Z",
     "shell.execute_reply": "2023-04-29T06:24:44.978372Z"
    },
    "papermill": {
     "duration": 0.017784,
     "end_time": "2023-04-29T06:24:44.980984",
     "exception": false,
     "start_time": "2023-04-29T06:24:44.963200",
     "status": "completed"
    },
    "tags": []
   },
   "outputs": [],
   "source": [
    "# setup callbacks\n",
    "checkpoint_path = \"/kaggle/working/training_1/cp.ckpt\"\n",
    "checkpoint_dir = os.path.dirname(checkpoint_path)\n",
    "if not os.path.exists(checkpoint_dir):\n",
    "  os.mkdir(checkpoint_dir)\n",
    "\n",
    "cp_callback = tf.keras.callbacks.ModelCheckpoint(filepath=checkpoint_path, save_weights_only=True, verbose=1)"
   ]
  },
  {
   "cell_type": "code",
   "execution_count": 12,
   "metadata": {
    "execution": {
     "iopub.execute_input": "2023-04-29T06:24:44.995449Z",
     "iopub.status.busy": "2023-04-29T06:24:44.995175Z",
     "iopub.status.idle": "2023-04-29T10:15:24.573918Z",
     "shell.execute_reply": "2023-04-29T10:15:24.571868Z"
    },
    "papermill": {
     "duration": 13839.589235,
     "end_time": "2023-04-29T10:15:24.576853",
     "exception": false,
     "start_time": "2023-04-29T06:24:44.987618",
     "status": "completed"
    },
    "tags": []
   },
   "outputs": [
    {
     "name": "stdout",
     "output_type": "stream",
     "text": [
      "Epoch 1/100\n"
     ]
    },
    {
     "name": "stderr",
     "output_type": "stream",
     "text": [
      "/opt/conda/lib/python3.7/site-packages/keras/backend.py:5586: UserWarning: \"`sparse_categorical_crossentropy` received `from_logits=True`, but the `output` argument was produced by a Softmax activation and thus does not represent logits. Was this intended?\n",
      "  output, from_logits, \"Softmax\", \"sparse_categorical_crossentropy\"\n"
     ]
    },
    {
     "name": "stdout",
     "output_type": "stream",
     "text": [
      "561/561 [==============================] - ETA: 0s - loss: 0.6763 - accuracy: 0.8078\n",
      "Epoch 1: saving model to /kaggle/working/training_1/cp.ckpt\n",
      "561/561 [==============================] - 173s 286ms/step - loss: 0.6763 - accuracy: 0.8078 - val_loss: 0.2797 - val_accuracy: 0.9202\n",
      "Epoch 2/100\n",
      "561/561 [==============================] - ETA: 0s - loss: 0.0890 - accuracy: 0.9719\n",
      "Epoch 2: saving model to /kaggle/working/training_1/cp.ckpt\n",
      "561/561 [==============================] - 129s 229ms/step - loss: 0.0890 - accuracy: 0.9719 - val_loss: 0.1199 - val_accuracy: 0.9628\n",
      "Epoch 3/100\n",
      "561/561 [==============================] - ETA: 0s - loss: 0.0608 - accuracy: 0.9802\n",
      "Epoch 3: saving model to /kaggle/working/training_1/cp.ckpt\n",
      "561/561 [==============================] - 129s 229ms/step - loss: 0.0608 - accuracy: 0.9802 - val_loss: 0.0992 - val_accuracy: 0.9694\n",
      "Epoch 4/100\n",
      "561/561 [==============================] - ETA: 0s - loss: 0.0509 - accuracy: 0.9842\n",
      "Epoch 4: saving model to /kaggle/working/training_1/cp.ckpt\n",
      "561/561 [==============================] - 129s 229ms/step - loss: 0.0509 - accuracy: 0.9842 - val_loss: 0.3120 - val_accuracy: 0.9025\n",
      "Epoch 5/100\n",
      "561/561 [==============================] - ETA: 0s - loss: 0.0526 - accuracy: 0.9843\n",
      "Epoch 5: saving model to /kaggle/working/training_1/cp.ckpt\n",
      "561/561 [==============================] - 131s 231ms/step - loss: 0.0526 - accuracy: 0.9843 - val_loss: 0.0997 - val_accuracy: 0.9721\n",
      "Epoch 6/100\n",
      "561/561 [==============================] - ETA: 0s - loss: 0.0239 - accuracy: 0.9930\n",
      "Epoch 6: saving model to /kaggle/working/training_1/cp.ckpt\n",
      "561/561 [==============================] - 148s 262ms/step - loss: 0.0239 - accuracy: 0.9930 - val_loss: 0.0717 - val_accuracy: 0.9793\n",
      "Epoch 7/100\n",
      "561/561 [==============================] - ETA: 0s - loss: 0.0330 - accuracy: 0.9906\n",
      "Epoch 7: saving model to /kaggle/working/training_1/cp.ckpt\n",
      "561/561 [==============================] - 130s 231ms/step - loss: 0.0330 - accuracy: 0.9906 - val_loss: 0.2114 - val_accuracy: 0.9454\n",
      "Epoch 8/100\n",
      "561/561 [==============================] - ETA: 0s - loss: 0.0389 - accuracy: 0.9882\n",
      "Epoch 8: saving model to /kaggle/working/training_1/cp.ckpt\n",
      "561/561 [==============================] - 131s 232ms/step - loss: 0.0389 - accuracy: 0.9882 - val_loss: 0.6011 - val_accuracy: 0.8787\n",
      "Epoch 9/100\n",
      "561/561 [==============================] - ETA: 0s - loss: 0.0256 - accuracy: 0.9929\n",
      "Epoch 9: saving model to /kaggle/working/training_1/cp.ckpt\n",
      "561/561 [==============================] - 132s 234ms/step - loss: 0.0256 - accuracy: 0.9929 - val_loss: 0.0466 - val_accuracy: 0.9909\n",
      "Epoch 10/100\n",
      "561/561 [==============================] - ETA: 0s - loss: 0.0117 - accuracy: 0.9968\n",
      "Epoch 10: saving model to /kaggle/working/training_1/cp.ckpt\n",
      "561/561 [==============================] - 129s 229ms/step - loss: 0.0117 - accuracy: 0.9968 - val_loss: 0.0318 - val_accuracy: 0.9953\n",
      "Epoch 11/100\n",
      "561/561 [==============================] - ETA: 0s - loss: 0.0278 - accuracy: 0.9930\n",
      "Epoch 11: saving model to /kaggle/working/training_1/cp.ckpt\n",
      "561/561 [==============================] - 129s 230ms/step - loss: 0.0278 - accuracy: 0.9930 - val_loss: 0.1406 - val_accuracy: 0.9558\n",
      "Epoch 12/100\n",
      "561/561 [==============================] - ETA: 0s - loss: 0.0099 - accuracy: 0.9973\n",
      "Epoch 12: saving model to /kaggle/working/training_1/cp.ckpt\n",
      "561/561 [==============================] - 131s 232ms/step - loss: 0.0099 - accuracy: 0.9973 - val_loss: 0.0310 - val_accuracy: 0.9935\n",
      "Epoch 13/100\n",
      "561/561 [==============================] - ETA: 0s - loss: 0.0237 - accuracy: 0.9942\n",
      "Epoch 13: saving model to /kaggle/working/training_1/cp.ckpt\n",
      "561/561 [==============================] - 130s 231ms/step - loss: 0.0237 - accuracy: 0.9942 - val_loss: 0.0979 - val_accuracy: 0.9746\n",
      "Epoch 14/100\n",
      "561/561 [==============================] - ETA: 0s - loss: 0.0277 - accuracy: 0.9935\n",
      "Epoch 14: saving model to /kaggle/working/training_1/cp.ckpt\n",
      "561/561 [==============================] - 130s 230ms/step - loss: 0.0277 - accuracy: 0.9935 - val_loss: 0.1005 - val_accuracy: 0.9710\n",
      "Epoch 15/100\n",
      "561/561 [==============================] - ETA: 0s - loss: 0.0123 - accuracy: 0.9968\n",
      "Epoch 15: saving model to /kaggle/working/training_1/cp.ckpt\n",
      "561/561 [==============================] - 129s 229ms/step - loss: 0.0123 - accuracy: 0.9968 - val_loss: 0.0547 - val_accuracy: 0.9886\n",
      "Epoch 16/100\n",
      "561/561 [==============================] - ETA: 0s - loss: 0.0058 - accuracy: 0.9989\n",
      "Epoch 16: saving model to /kaggle/working/training_1/cp.ckpt\n",
      "561/561 [==============================] - 131s 233ms/step - loss: 0.0058 - accuracy: 0.9989 - val_loss: 0.0464 - val_accuracy: 0.9926\n",
      "Epoch 17/100\n",
      "561/561 [==============================] - ETA: 0s - loss: 0.0476 - accuracy: 0.9893\n",
      "Epoch 17: saving model to /kaggle/working/training_1/cp.ckpt\n",
      "561/561 [==============================] - 133s 237ms/step - loss: 0.0476 - accuracy: 0.9893 - val_loss: 0.0423 - val_accuracy: 0.9913\n",
      "Epoch 18/100\n",
      "561/561 [==============================] - ETA: 0s - loss: 0.0152 - accuracy: 0.9969\n",
      "Epoch 18: saving model to /kaggle/working/training_1/cp.ckpt\n",
      "561/561 [==============================] - 129s 229ms/step - loss: 0.0152 - accuracy: 0.9969 - val_loss: 0.0439 - val_accuracy: 0.9924\n",
      "Epoch 19/100\n",
      "561/561 [==============================] - ETA: 0s - loss: 0.0124 - accuracy: 0.9976\n",
      "Epoch 19: saving model to /kaggle/working/training_1/cp.ckpt\n",
      "561/561 [==============================] - 131s 233ms/step - loss: 0.0124 - accuracy: 0.9976 - val_loss: 0.0569 - val_accuracy: 0.9862\n",
      "Epoch 20/100\n",
      "561/561 [==============================] - ETA: 0s - loss: 0.0107 - accuracy: 0.9973\n",
      "Epoch 20: saving model to /kaggle/working/training_1/cp.ckpt\n",
      "561/561 [==============================] - 132s 234ms/step - loss: 0.0107 - accuracy: 0.9973 - val_loss: 0.0574 - val_accuracy: 0.9888\n",
      "Epoch 21/100\n",
      "561/561 [==============================] - ETA: 0s - loss: 0.0215 - accuracy: 0.9960\n",
      "Epoch 21: saving model to /kaggle/working/training_1/cp.ckpt\n",
      "561/561 [==============================] - 148s 263ms/step - loss: 0.0215 - accuracy: 0.9960 - val_loss: 0.0432 - val_accuracy: 0.9931\n",
      "Epoch 22/100\n",
      "561/561 [==============================] - ETA: 0s - loss: 0.0061 - accuracy: 0.9980\n",
      "Epoch 22: saving model to /kaggle/working/training_1/cp.ckpt\n",
      "561/561 [==============================] - 131s 232ms/step - loss: 0.0061 - accuracy: 0.9980 - val_loss: 0.0923 - val_accuracy: 0.9822\n",
      "Epoch 23/100\n",
      "561/561 [==============================] - ETA: 0s - loss: 0.0149 - accuracy: 0.9972\n",
      "Epoch 23: saving model to /kaggle/working/training_1/cp.ckpt\n",
      "561/561 [==============================] - 129s 229ms/step - loss: 0.0149 - accuracy: 0.9972 - val_loss: 0.0706 - val_accuracy: 0.9817\n",
      "Epoch 24/100\n",
      "561/561 [==============================] - ETA: 0s - loss: 0.0148 - accuracy: 0.9971\n",
      "Epoch 24: saving model to /kaggle/working/training_1/cp.ckpt\n",
      "561/561 [==============================] - 132s 234ms/step - loss: 0.0148 - accuracy: 0.9971 - val_loss: 0.0276 - val_accuracy: 0.9955\n",
      "Epoch 25/100\n",
      "561/561 [==============================] - ETA: 0s - loss: 0.0030 - accuracy: 0.9993\n",
      "Epoch 25: saving model to /kaggle/working/training_1/cp.ckpt\n",
      "561/561 [==============================] - 133s 236ms/step - loss: 0.0030 - accuracy: 0.9993 - val_loss: 0.0474 - val_accuracy: 0.9915\n",
      "Epoch 26/100\n",
      "561/561 [==============================] - ETA: 0s - loss: 0.0125 - accuracy: 0.9965\n",
      "Epoch 26: saving model to /kaggle/working/training_1/cp.ckpt\n",
      "561/561 [==============================] - 132s 234ms/step - loss: 0.0125 - accuracy: 0.9965 - val_loss: 0.1918 - val_accuracy: 0.9643\n",
      "Epoch 27/100\n",
      "561/561 [==============================] - ETA: 0s - loss: 0.0277 - accuracy: 0.9951\n",
      "Epoch 27: saving model to /kaggle/working/training_1/cp.ckpt\n",
      "561/561 [==============================] - 132s 233ms/step - loss: 0.0277 - accuracy: 0.9951 - val_loss: 0.0706 - val_accuracy: 0.9877\n",
      "Epoch 28/100\n",
      "561/561 [==============================] - ETA: 0s - loss: 0.0114 - accuracy: 0.9978\n",
      "Epoch 28: saving model to /kaggle/working/training_1/cp.ckpt\n",
      "561/561 [==============================] - 132s 234ms/step - loss: 0.0114 - accuracy: 0.9978 - val_loss: 0.0818 - val_accuracy: 0.9891\n",
      "Epoch 29/100\n",
      "561/561 [==============================] - ETA: 0s - loss: 0.0028 - accuracy: 0.9993\n",
      "Epoch 29: saving model to /kaggle/working/training_1/cp.ckpt\n",
      "561/561 [==============================] - 133s 235ms/step - loss: 0.0028 - accuracy: 0.9993 - val_loss: 0.0470 - val_accuracy: 0.9946\n",
      "Epoch 30/100\n",
      "561/561 [==============================] - ETA: 0s - loss: 0.0068 - accuracy: 0.9984\n",
      "Epoch 30: saving model to /kaggle/working/training_1/cp.ckpt\n",
      "561/561 [==============================] - 135s 238ms/step - loss: 0.0068 - accuracy: 0.9984 - val_loss: 0.0502 - val_accuracy: 0.9922\n",
      "Epoch 31/100\n",
      "561/561 [==============================] - ETA: 0s - loss: 0.0252 - accuracy: 0.9945\n",
      "Epoch 31: saving model to /kaggle/working/training_1/cp.ckpt\n",
      "561/561 [==============================] - 134s 238ms/step - loss: 0.0252 - accuracy: 0.9945 - val_loss: 0.0620 - val_accuracy: 0.9888\n",
      "Epoch 32/100\n",
      "561/561 [==============================] - ETA: 0s - loss: 0.0029 - accuracy: 0.9991\n",
      "Epoch 32: saving model to /kaggle/working/training_1/cp.ckpt\n",
      "561/561 [==============================] - 132s 234ms/step - loss: 0.0029 - accuracy: 0.9991 - val_loss: 0.0570 - val_accuracy: 0.9938\n",
      "Epoch 33/100\n",
      "561/561 [==============================] - ETA: 0s - loss: 0.0020 - accuracy: 0.9993\n",
      "Epoch 33: saving model to /kaggle/working/training_1/cp.ckpt\n",
      "561/561 [==============================] - 132s 232ms/step - loss: 0.0020 - accuracy: 0.9993 - val_loss: 0.0499 - val_accuracy: 0.9938\n",
      "Epoch 34/100\n",
      "561/561 [==============================] - ETA: 0s - loss: 0.0196 - accuracy: 0.9967\n",
      "Epoch 34: saving model to /kaggle/working/training_1/cp.ckpt\n",
      "561/561 [==============================] - 132s 234ms/step - loss: 0.0196 - accuracy: 0.9967 - val_loss: 0.1862 - val_accuracy: 0.9712\n",
      "Epoch 35/100\n",
      "561/561 [==============================] - ETA: 0s - loss: 0.0186 - accuracy: 0.9969\n",
      "Epoch 35: saving model to /kaggle/working/training_1/cp.ckpt\n",
      "561/561 [==============================] - 133s 235ms/step - loss: 0.0186 - accuracy: 0.9969 - val_loss: 0.0683 - val_accuracy: 0.9926\n",
      "Epoch 36/100\n",
      "561/561 [==============================] - ETA: 0s - loss: 0.0063 - accuracy: 0.9988\n",
      "Epoch 36: saving model to /kaggle/working/training_1/cp.ckpt\n",
      "561/561 [==============================] - 133s 235ms/step - loss: 0.0063 - accuracy: 0.9988 - val_loss: 0.0439 - val_accuracy: 0.9955\n",
      "Epoch 37/100\n",
      "561/561 [==============================] - ETA: 0s - loss: 0.0022 - accuracy: 0.9998\n",
      "Epoch 37: saving model to /kaggle/working/training_1/cp.ckpt\n",
      "561/561 [==============================] - 131s 232ms/step - loss: 0.0022 - accuracy: 0.9998 - val_loss: 0.0434 - val_accuracy: 0.9951\n",
      "Epoch 38/100\n",
      "561/561 [==============================] - ETA: 0s - loss: 0.0329 - accuracy: 0.9930\n",
      "Epoch 38: saving model to /kaggle/working/training_1/cp.ckpt\n",
      "561/561 [==============================] - 134s 237ms/step - loss: 0.0329 - accuracy: 0.9930 - val_loss: 0.0353 - val_accuracy: 0.9946\n",
      "Epoch 39/100\n",
      "561/561 [==============================] - ETA: 0s - loss: 0.0054 - accuracy: 0.9990\n",
      "Epoch 39: saving model to /kaggle/working/training_1/cp.ckpt\n",
      "561/561 [==============================] - 134s 238ms/step - loss: 0.0054 - accuracy: 0.9990 - val_loss: 0.0368 - val_accuracy: 0.9946\n",
      "Epoch 40/100\n",
      "561/561 [==============================] - ETA: 0s - loss: 0.0051 - accuracy: 0.9989\n",
      "Epoch 40: saving model to /kaggle/working/training_1/cp.ckpt\n",
      "561/561 [==============================] - 132s 235ms/step - loss: 0.0051 - accuracy: 0.9989 - val_loss: 0.0460 - val_accuracy: 0.9955\n",
      "Epoch 41/100\n",
      "561/561 [==============================] - ETA: 0s - loss: 0.0046 - accuracy: 0.9988\n",
      "Epoch 41: saving model to /kaggle/working/training_1/cp.ckpt\n",
      "561/561 [==============================] - 132s 233ms/step - loss: 0.0046 - accuracy: 0.9988 - val_loss: 0.1121 - val_accuracy: 0.9906\n",
      "Epoch 42/100\n",
      "561/561 [==============================] - ETA: 0s - loss: 0.0142 - accuracy: 0.9968\n",
      "Epoch 42: saving model to /kaggle/working/training_1/cp.ckpt\n",
      "561/561 [==============================] - 134s 236ms/step - loss: 0.0142 - accuracy: 0.9968 - val_loss: 0.1442 - val_accuracy: 0.9752\n",
      "Epoch 43/100\n",
      "561/561 [==============================] - ETA: 0s - loss: 0.0139 - accuracy: 0.9969\n",
      "Epoch 43: saving model to /kaggle/working/training_1/cp.ckpt\n",
      "561/561 [==============================] - 135s 239ms/step - loss: 0.0139 - accuracy: 0.9969 - val_loss: 0.0475 - val_accuracy: 0.9949\n",
      "Epoch 44/100\n",
      "561/561 [==============================] - ETA: 0s - loss: 0.0019 - accuracy: 0.9995\n",
      "Epoch 44: saving model to /kaggle/working/training_1/cp.ckpt\n",
      "561/561 [==============================] - 134s 236ms/step - loss: 0.0019 - accuracy: 0.9995 - val_loss: 0.0475 - val_accuracy: 0.9960\n",
      "Epoch 45/100\n",
      "561/561 [==============================] - ETA: 0s - loss: 0.0059 - accuracy: 0.9992\n",
      "Epoch 45: saving model to /kaggle/working/training_1/cp.ckpt\n",
      "561/561 [==============================] - 133s 235ms/step - loss: 0.0059 - accuracy: 0.9992 - val_loss: 0.1692 - val_accuracy: 0.9786\n",
      "Epoch 46/100\n",
      "561/561 [==============================] - ETA: 0s - loss: 0.0050 - accuracy: 0.9993\n",
      "Epoch 46: saving model to /kaggle/working/training_1/cp.ckpt\n",
      "561/561 [==============================] - 133s 236ms/step - loss: 0.0050 - accuracy: 0.9993 - val_loss: 0.0512 - val_accuracy: 0.9958\n",
      "Epoch 47/100\n",
      "561/561 [==============================] - ETA: 0s - loss: 8.1708e-05 - accuracy: 1.0000\n",
      "Epoch 47: saving model to /kaggle/working/training_1/cp.ckpt\n",
      "561/561 [==============================] - 134s 236ms/step - loss: 8.1708e-05 - accuracy: 1.0000 - val_loss: 0.0491 - val_accuracy: 0.9955\n",
      "Epoch 48/100\n",
      "561/561 [==============================] - ETA: 0s - loss: 1.0033e-05 - accuracy: 1.0000\n",
      "Epoch 48: saving model to /kaggle/working/training_1/cp.ckpt\n",
      "561/561 [==============================] - 133s 236ms/step - loss: 1.0033e-05 - accuracy: 1.0000 - val_loss: 0.0381 - val_accuracy: 0.9958\n",
      "Epoch 49/100\n",
      "561/561 [==============================] - ETA: 0s - loss: 4.1040e-06 - accuracy: 1.0000\n",
      "Epoch 49: saving model to /kaggle/working/training_1/cp.ckpt\n",
      "561/561 [==============================] - 132s 234ms/step - loss: 4.1040e-06 - accuracy: 1.0000 - val_loss: 0.0376 - val_accuracy: 0.9955\n",
      "Epoch 50/100\n",
      "561/561 [==============================] - ETA: 0s - loss: 2.8371e-06 - accuracy: 1.0000\n",
      "Epoch 50: saving model to /kaggle/working/training_1/cp.ckpt\n",
      "561/561 [==============================] - 133s 237ms/step - loss: 2.8371e-06 - accuracy: 1.0000 - val_loss: 0.0376 - val_accuracy: 0.9960\n",
      "Epoch 51/100\n",
      "561/561 [==============================] - ETA: 0s - loss: 1.9062e-06 - accuracy: 1.0000\n",
      "Epoch 51: saving model to /kaggle/working/training_1/cp.ckpt\n",
      "561/561 [==============================] - 135s 239ms/step - loss: 1.9062e-06 - accuracy: 1.0000 - val_loss: 0.0375 - val_accuracy: 0.9962\n",
      "Epoch 52/100\n",
      "561/561 [==============================] - ETA: 0s - loss: 1.1964e-06 - accuracy: 1.0000\n",
      "Epoch 52: saving model to /kaggle/working/training_1/cp.ckpt\n",
      "561/561 [==============================] - 133s 235ms/step - loss: 1.1964e-06 - accuracy: 1.0000 - val_loss: 0.0375 - val_accuracy: 0.9962\n",
      "Epoch 53/100\n",
      "561/561 [==============================] - ETA: 0s - loss: 9.4094e-07 - accuracy: 1.0000\n",
      "Epoch 53: saving model to /kaggle/working/training_1/cp.ckpt\n",
      "561/561 [==============================] - 132s 233ms/step - loss: 9.4094e-07 - accuracy: 1.0000 - val_loss: 0.0376 - val_accuracy: 0.9960\n",
      "Epoch 54/100\n",
      "561/561 [==============================] - ETA: 0s - loss: 6.2174e-07 - accuracy: 1.0000\n",
      "Epoch 54: saving model to /kaggle/working/training_1/cp.ckpt\n",
      "561/561 [==============================] - 132s 235ms/step - loss: 6.2174e-07 - accuracy: 1.0000 - val_loss: 0.0378 - val_accuracy: 0.9960\n",
      "Epoch 55/100\n",
      "561/561 [==============================] - ETA: 0s - loss: 5.5494e-07 - accuracy: 1.0000\n",
      "Epoch 55: saving model to /kaggle/working/training_1/cp.ckpt\n",
      "561/561 [==============================] - 135s 240ms/step - loss: 5.5494e-07 - accuracy: 1.0000 - val_loss: 0.0380 - val_accuracy: 0.9960\n",
      "Epoch 56/100\n",
      "561/561 [==============================] - ETA: 0s - loss: 3.7757e-07 - accuracy: 1.0000\n",
      "Epoch 56: saving model to /kaggle/working/training_1/cp.ckpt\n",
      "561/561 [==============================] - 134s 237ms/step - loss: 3.7757e-07 - accuracy: 1.0000 - val_loss: 0.0383 - val_accuracy: 0.9960\n",
      "Epoch 57/100\n",
      "561/561 [==============================] - ETA: 0s - loss: 2.4221e-07 - accuracy: 1.0000\n",
      "Epoch 57: saving model to /kaggle/working/training_1/cp.ckpt\n",
      "561/561 [==============================] - 134s 237ms/step - loss: 2.4221e-07 - accuracy: 1.0000 - val_loss: 0.0384 - val_accuracy: 0.9960\n",
      "Epoch 58/100\n",
      "561/561 [==============================] - ETA: 0s - loss: 2.0851e-07 - accuracy: 1.0000\n",
      "Epoch 58: saving model to /kaggle/working/training_1/cp.ckpt\n",
      "561/561 [==============================] - 134s 238ms/step - loss: 2.0851e-07 - accuracy: 1.0000 - val_loss: 0.0387 - val_accuracy: 0.9960\n",
      "Epoch 59/100\n",
      "561/561 [==============================] - ETA: 0s - loss: 1.8082e-07 - accuracy: 1.0000\n",
      "Epoch 59: saving model to /kaggle/working/training_1/cp.ckpt\n",
      "561/561 [==============================] - 134s 239ms/step - loss: 1.8082e-07 - accuracy: 1.0000 - val_loss: 0.0390 - val_accuracy: 0.9962\n",
      "Epoch 60/100\n",
      "561/561 [==============================] - ETA: 0s - loss: 1.2864e-07 - accuracy: 1.0000\n",
      "Epoch 60: saving model to /kaggle/working/training_1/cp.ckpt\n",
      "561/561 [==============================] - 133s 237ms/step - loss: 1.2864e-07 - accuracy: 1.0000 - val_loss: 0.0390 - val_accuracy: 0.9962\n",
      "Epoch 61/100\n",
      "561/561 [==============================] - ETA: 0s - loss: 9.0197e-08 - accuracy: 1.0000\n",
      "Epoch 61: saving model to /kaggle/working/training_1/cp.ckpt\n",
      "561/561 [==============================] - 132s 234ms/step - loss: 9.0197e-08 - accuracy: 1.0000 - val_loss: 0.0393 - val_accuracy: 0.9962\n",
      "Epoch 62/100\n",
      "561/561 [==============================] - ETA: 0s - loss: 6.1943e-08 - accuracy: 1.0000\n",
      "Epoch 62: saving model to /kaggle/working/training_1/cp.ckpt\n",
      "561/561 [==============================] - 135s 238ms/step - loss: 6.1943e-08 - accuracy: 1.0000 - val_loss: 0.0396 - val_accuracy: 0.9962\n",
      "Epoch 63/100\n",
      "561/561 [==============================] - ETA: 0s - loss: 6.0541e-08 - accuracy: 1.0000\n",
      "Epoch 63: saving model to /kaggle/working/training_1/cp.ckpt\n",
      "561/561 [==============================] - 135s 239ms/step - loss: 6.0541e-08 - accuracy: 1.0000 - val_loss: 0.0404 - val_accuracy: 0.9962\n",
      "Epoch 64/100\n",
      "561/561 [==============================] - ETA: 0s - loss: 5.3570e-08 - accuracy: 1.0000\n",
      "Epoch 64: saving model to /kaggle/working/training_1/cp.ckpt\n",
      "561/561 [==============================] - 132s 235ms/step - loss: 5.3570e-08 - accuracy: 1.0000 - val_loss: 0.0410 - val_accuracy: 0.9964\n",
      "Epoch 65/100\n",
      "561/561 [==============================] - ETA: 0s - loss: 3.3105e-08 - accuracy: 1.0000\n",
      "Epoch 65: saving model to /kaggle/working/training_1/cp.ckpt\n",
      "561/561 [==============================] - 152s 268ms/step - loss: 3.3105e-08 - accuracy: 1.0000 - val_loss: 0.0412 - val_accuracy: 0.9962\n",
      "Epoch 66/100\n",
      "561/561 [==============================] - ETA: 0s - loss: 2.3410e-08 - accuracy: 1.0000\n",
      "Epoch 66: saving model to /kaggle/working/training_1/cp.ckpt\n",
      "561/561 [==============================] - 136s 240ms/step - loss: 2.3410e-08 - accuracy: 1.0000 - val_loss: 0.0416 - val_accuracy: 0.9962\n",
      "Epoch 67/100\n",
      "561/561 [==============================] - ETA: 0s - loss: 1.7011e-08 - accuracy: 1.0000\n",
      "Epoch 67: saving model to /kaggle/working/training_1/cp.ckpt\n",
      "561/561 [==============================] - 133s 236ms/step - loss: 1.7011e-08 - accuracy: 1.0000 - val_loss: 0.0420 - val_accuracy: 0.9962\n",
      "Epoch 68/100\n",
      "561/561 [==============================] - ETA: 0s - loss: 1.5144e-08 - accuracy: 1.0000\n",
      "Epoch 68: saving model to /kaggle/working/training_1/cp.ckpt\n",
      "561/561 [==============================] - 134s 237ms/step - loss: 1.5144e-08 - accuracy: 1.0000 - val_loss: 0.0423 - val_accuracy: 0.9962\n",
      "Epoch 69/100\n",
      "561/561 [==============================] - ETA: 0s - loss: 1.0167e-08 - accuracy: 1.0000\n",
      "Epoch 69: saving model to /kaggle/working/training_1/cp.ckpt\n",
      "561/561 [==============================] - 134s 238ms/step - loss: 1.0167e-08 - accuracy: 1.0000 - val_loss: 0.0425 - val_accuracy: 0.9962\n",
      "Epoch 70/100\n",
      "561/561 [==============================] - ETA: 0s - loss: 7.0834e-09 - accuracy: 1.0000\n",
      "Epoch 70: saving model to /kaggle/working/training_1/cp.ckpt\n",
      "561/561 [==============================] - 136s 240ms/step - loss: 7.0834e-09 - accuracy: 1.0000 - val_loss: 0.0427 - val_accuracy: 0.9962\n",
      "Epoch 71/100\n",
      "561/561 [==============================] - ETA: 0s - loss: 5.7744e-09 - accuracy: 1.0000\n",
      "Epoch 71: saving model to /kaggle/working/training_1/cp.ckpt\n",
      "561/561 [==============================] - 153s 271ms/step - loss: 5.7744e-09 - accuracy: 1.0000 - val_loss: 0.0430 - val_accuracy: 0.9962\n",
      "Epoch 72/100\n",
      "561/561 [==============================] - ETA: 0s - loss: 4.4587e-09 - accuracy: 1.0000\n",
      "Epoch 72: saving model to /kaggle/working/training_1/cp.ckpt\n",
      "561/561 [==============================] - 135s 239ms/step - loss: 4.4587e-09 - accuracy: 1.0000 - val_loss: 0.0433 - val_accuracy: 0.9962\n",
      "Epoch 73/100\n",
      "561/561 [==============================] - ETA: 0s - loss: 3.6215e-09 - accuracy: 1.0000\n",
      "Epoch 73: saving model to /kaggle/working/training_1/cp.ckpt\n",
      "561/561 [==============================] - 133s 236ms/step - loss: 3.6215e-09 - accuracy: 1.0000 - val_loss: 0.0438 - val_accuracy: 0.9964\n",
      "Epoch 74/100\n",
      "561/561 [==============================] - ETA: 0s - loss: 3.2626e-09 - accuracy: 1.0000\n",
      "Epoch 74: saving model to /kaggle/working/training_1/cp.ckpt\n",
      "561/561 [==============================] - 131s 233ms/step - loss: 3.2626e-09 - accuracy: 1.0000 - val_loss: 0.0440 - val_accuracy: 0.9962\n",
      "Epoch 75/100\n",
      "561/561 [==============================] - ETA: 0s - loss: 3.2626e-09 - accuracy: 1.0000\n",
      "Epoch 75: saving model to /kaggle/working/training_1/cp.ckpt\n",
      "561/561 [==============================] - 133s 237ms/step - loss: 3.2626e-09 - accuracy: 1.0000 - val_loss: 0.0448 - val_accuracy: 0.9960\n",
      "Epoch 76/100\n",
      "561/561 [==============================] - ETA: 0s - loss: 1.5615e-09 - accuracy: 1.0000\n",
      "Epoch 76: saving model to /kaggle/working/training_1/cp.ckpt\n",
      "561/561 [==============================] - 133s 236ms/step - loss: 1.5615e-09 - accuracy: 1.0000 - val_loss: 0.0449 - val_accuracy: 0.9960\n",
      "Epoch 77/100\n",
      "561/561 [==============================] - ETA: 0s - loss: 1.2094e-09 - accuracy: 1.0000\n",
      "Epoch 77: saving model to /kaggle/working/training_1/cp.ckpt\n",
      "561/561 [==============================] - 133s 236ms/step - loss: 1.2094e-09 - accuracy: 1.0000 - val_loss: 0.0452 - val_accuracy: 0.9960\n",
      "Epoch 78/100\n",
      "561/561 [==============================] - ETA: 0s - loss: 1.2559e-09 - accuracy: 1.0000\n",
      "Epoch 78: saving model to /kaggle/working/training_1/cp.ckpt\n",
      "561/561 [==============================] - 132s 233ms/step - loss: 1.2559e-09 - accuracy: 1.0000 - val_loss: 0.0451 - val_accuracy: 0.9960\n",
      "Epoch 79/100\n",
      "561/561 [==============================] - ETA: 0s - loss: 8.0403e-10 - accuracy: 1.0000\n",
      "Epoch 79: saving model to /kaggle/working/training_1/cp.ckpt\n",
      "561/561 [==============================] - 133s 235ms/step - loss: 8.0403e-10 - accuracy: 1.0000 - val_loss: 0.0453 - val_accuracy: 0.9960\n",
      "Epoch 80/100\n",
      "561/561 [==============================] - ETA: 0s - loss: 6.0468e-10 - accuracy: 1.0000\n",
      "Epoch 80: saving model to /kaggle/working/training_1/cp.ckpt\n",
      "561/561 [==============================] - 134s 238ms/step - loss: 6.0468e-10 - accuracy: 1.0000 - val_loss: 0.0457 - val_accuracy: 0.9962\n",
      "Epoch 81/100\n",
      "561/561 [==============================] - ETA: 0s - loss: 5.3824e-10 - accuracy: 1.0000\n",
      "Epoch 81: saving model to /kaggle/working/training_1/cp.ckpt\n",
      "561/561 [==============================] - 134s 238ms/step - loss: 5.3824e-10 - accuracy: 1.0000 - val_loss: 0.0460 - val_accuracy: 0.9962\n",
      "Epoch 82/100\n",
      "561/561 [==============================] - ETA: 0s - loss: 3.4553e-10 - accuracy: 1.0000\n",
      "Epoch 82: saving model to /kaggle/working/training_1/cp.ckpt\n",
      "561/561 [==============================] - 132s 234ms/step - loss: 3.4553e-10 - accuracy: 1.0000 - val_loss: 0.0461 - val_accuracy: 0.9962\n",
      "Epoch 83/100\n",
      "561/561 [==============================] - ETA: 0s - loss: 3.3224e-10 - accuracy: 1.0000\n",
      "Epoch 83: saving model to /kaggle/working/training_1/cp.ckpt\n",
      "561/561 [==============================] - 135s 239ms/step - loss: 3.3224e-10 - accuracy: 1.0000 - val_loss: 0.0465 - val_accuracy: 0.9962\n",
      "Epoch 84/100\n",
      "561/561 [==============================] - ETA: 0s - loss: 2.4586e-10 - accuracy: 1.0000\n",
      "Epoch 84: saving model to /kaggle/working/training_1/cp.ckpt\n",
      "561/561 [==============================] - 135s 239ms/step - loss: 2.4586e-10 - accuracy: 1.0000 - val_loss: 0.0467 - val_accuracy: 0.9962\n",
      "Epoch 85/100\n",
      "561/561 [==============================] - ETA: 0s - loss: 1.7941e-10 - accuracy: 1.0000\n",
      "Epoch 85: saving model to /kaggle/working/training_1/cp.ckpt\n",
      "561/561 [==============================] - 134s 238ms/step - loss: 1.7941e-10 - accuracy: 1.0000 - val_loss: 0.0468 - val_accuracy: 0.9962\n",
      "Epoch 86/100\n",
      "561/561 [==============================] - ETA: 0s - loss: 2.5251e-10 - accuracy: 1.0000\n",
      "Epoch 86: saving model to /kaggle/working/training_1/cp.ckpt\n",
      "561/561 [==============================] - 131s 232ms/step - loss: 2.5251e-10 - accuracy: 1.0000 - val_loss: 0.0476 - val_accuracy: 0.9964\n",
      "Epoch 87/100\n",
      "561/561 [==============================] - ETA: 0s - loss: 1.3954e-10 - accuracy: 1.0000\n",
      "Epoch 87: saving model to /kaggle/working/training_1/cp.ckpt\n",
      "561/561 [==============================] - 133s 236ms/step - loss: 1.3954e-10 - accuracy: 1.0000 - val_loss: 0.0477 - val_accuracy: 0.9960\n",
      "Epoch 88/100\n",
      "561/561 [==============================] - ETA: 0s - loss: 9.3028e-11 - accuracy: 1.0000\n",
      "Epoch 88: saving model to /kaggle/working/training_1/cp.ckpt\n",
      "561/561 [==============================] - 134s 238ms/step - loss: 9.3028e-11 - accuracy: 1.0000 - val_loss: 0.0479 - val_accuracy: 0.9960\n",
      "Epoch 89/100\n",
      "561/561 [==============================] - ETA: 0s - loss: 1.0632e-10 - accuracy: 1.0000\n",
      "Epoch 89: saving model to /kaggle/working/training_1/cp.ckpt\n",
      "561/561 [==============================] - 134s 237ms/step - loss: 1.0632e-10 - accuracy: 1.0000 - val_loss: 0.0481 - val_accuracy: 0.9960\n",
      "Epoch 90/100\n",
      "561/561 [==============================] - ETA: 0s - loss: 7.3094e-11 - accuracy: 1.0000\n",
      "Epoch 90: saving model to /kaggle/working/training_1/cp.ckpt\n",
      "561/561 [==============================] - 134s 238ms/step - loss: 7.3094e-11 - accuracy: 1.0000 - val_loss: 0.0485 - val_accuracy: 0.9960\n",
      "Epoch 91/100\n",
      "561/561 [==============================] - ETA: 0s - loss: 3.9869e-11 - accuracy: 1.0000\n",
      "Epoch 91: saving model to /kaggle/working/training_1/cp.ckpt\n",
      "561/561 [==============================] - 134s 238ms/step - loss: 3.9869e-11 - accuracy: 1.0000 - val_loss: 0.0485 - val_accuracy: 0.9960\n",
      "Epoch 92/100\n",
      "561/561 [==============================] - ETA: 0s - loss: 7.9739e-11 - accuracy: 1.0000\n",
      "Epoch 92: saving model to /kaggle/working/training_1/cp.ckpt\n",
      "561/561 [==============================] - 136s 241ms/step - loss: 7.9739e-11 - accuracy: 1.0000 - val_loss: 0.0486 - val_accuracy: 0.9960\n",
      "Epoch 93/100\n",
      "561/561 [==============================] - ETA: 0s - loss: 7.3094e-11 - accuracy: 1.0000\n",
      "Epoch 93: saving model to /kaggle/working/training_1/cp.ckpt\n",
      "561/561 [==============================] - 132s 235ms/step - loss: 7.3094e-11 - accuracy: 1.0000 - val_loss: 0.0488 - val_accuracy: 0.9960\n",
      "Epoch 94/100\n",
      "561/561 [==============================] - ETA: 0s - loss: 7.9739e-11 - accuracy: 1.0000\n",
      "Epoch 94: saving model to /kaggle/working/training_1/cp.ckpt\n",
      "561/561 [==============================] - 132s 233ms/step - loss: 7.9739e-11 - accuracy: 1.0000 - val_loss: 0.0489 - val_accuracy: 0.9960\n",
      "Epoch 95/100\n",
      "561/561 [==============================] - ETA: 0s - loss: 2.6580e-11 - accuracy: 1.0000\n",
      "Epoch 95: saving model to /kaggle/working/training_1/cp.ckpt\n",
      "561/561 [==============================] - 133s 236ms/step - loss: 2.6580e-11 - accuracy: 1.0000 - val_loss: 0.0491 - val_accuracy: 0.9960\n",
      "Epoch 96/100\n",
      "561/561 [==============================] - ETA: 0s - loss: 1.9935e-11 - accuracy: 1.0000\n",
      "Epoch 96: saving model to /kaggle/working/training_1/cp.ckpt\n",
      "561/561 [==============================] - 134s 238ms/step - loss: 1.9935e-11 - accuracy: 1.0000 - val_loss: 0.0491 - val_accuracy: 0.9960\n",
      "Epoch 97/100\n",
      "561/561 [==============================] - ETA: 0s - loss: 3.3224e-11 - accuracy: 1.0000\n",
      "Epoch 97: saving model to /kaggle/working/training_1/cp.ckpt\n",
      "561/561 [==============================] - 133s 237ms/step - loss: 3.3224e-11 - accuracy: 1.0000 - val_loss: 0.0490 - val_accuracy: 0.9962\n",
      "Epoch 98/100\n",
      "561/561 [==============================] - ETA: 0s - loss: 5.3159e-11 - accuracy: 1.0000\n",
      "Epoch 98: saving model to /kaggle/working/training_1/cp.ckpt\n",
      "561/561 [==============================] - 135s 239ms/step - loss: 5.3159e-11 - accuracy: 1.0000 - val_loss: 0.0490 - val_accuracy: 0.9958\n",
      "Epoch 99/100\n",
      "561/561 [==============================] - ETA: 0s - loss: 5.9804e-11 - accuracy: 1.0000\n",
      "Epoch 99: saving model to /kaggle/working/training_1/cp.ckpt\n",
      "561/561 [==============================] - 135s 239ms/step - loss: 5.9804e-11 - accuracy: 1.0000 - val_loss: 0.0496 - val_accuracy: 0.9958\n",
      "Epoch 100/100\n",
      "561/561 [==============================] - ETA: 0s - loss: 6.6449e-12 - accuracy: 1.0000\n",
      "Epoch 100: saving model to /kaggle/working/training_1/cp.ckpt\n",
      "561/561 [==============================] - 137s 244ms/step - loss: 6.6449e-12 - accuracy: 1.0000 - val_loss: 0.0496 - val_accuracy: 0.9960\n"
     ]
    }
   ],
   "source": [
    "# train model\n",
    "epochs = 100\n",
    "history = model.fit(\n",
    "    train_ds,\n",
    "    validation_data=val_ds,\n",
    "    epochs=epochs,\n",
    "    callbacks=[cp_callback]\n",
    ")"
   ]
  },
  {
   "cell_type": "code",
   "execution_count": 13,
   "metadata": {
    "execution": {
     "iopub.execute_input": "2023-04-29T10:15:31.135584Z",
     "iopub.status.busy": "2023-04-29T10:15:31.135177Z",
     "iopub.status.idle": "2023-04-29T10:15:31.610727Z",
     "shell.execute_reply": "2023-04-29T10:15:31.609551Z"
    },
    "papermill": {
     "duration": 3.845964,
     "end_time": "2023-04-29T10:15:31.613218",
     "exception": false,
     "start_time": "2023-04-29T10:15:27.767254",
     "status": "completed"
    },
    "tags": []
   },
   "outputs": [
    {
     "data": {
      "image/png": "[encoded data removed]",
      "text/plain": [
       "<Figure size 800x800 with 2 Axes>"
      ]
     },
     "metadata": {},
     "output_type": "display_data"
    }
   ],
   "source": [
    "# plot accuracy and loss\n",
    "acc = history.history['accuracy']\n",
    "val_acc = history.history['val_accuracy']\n",
    "\n",
    "loss = history.history['loss']\n",
    "val_loss = history.history['val_loss']\n",
    "\n",
    "epochs_range = range(epochs)\n",
    "\n",
    "plt.figure(figsize=(8, 8))\n",
    "plt.subplot(1, 2, 1)\n",
    "plt.plot(epochs_range, acc, label='Training Accuracy')\n",
    "plt.plot(epochs_range, val_acc, label='Validation Accuracy')\n",
    "plt.legend(loc='lower right')\n",
    "plt.title('Training and Validation Accuracy')\n",
    "\n",
    "plt.subplot(1, 2, 2)\n",
    "plt.plot(epochs_range, loss, label='Training Loss')\n",
    "plt.plot(epochs_range, val_loss, label='Validation Loss')\n",
    "plt.legend(loc='upper right')\n",
    "plt.title('Training and Validation Loss')\n",
    "plt.show()"
   ]
  },
  {
   "cell_type": "code",
   "execution_count": 14,
   "metadata": {
    "execution": {
     "iopub.execute_input": "2023-04-29T10:15:37.983185Z",
     "iopub.status.busy": "2023-04-29T10:15:37.982792Z",
     "iopub.status.idle": "2023-04-29T10:40:00.085077Z",
     "shell.execute_reply": "2023-04-29T10:40:00.083888Z"
    },
    "papermill": {
     "duration": 1468.590546,
     "end_time": "2023-04-29T10:40:03.415890",
     "exception": false,
     "start_time": "2023-04-29T10:15:34.825344",
     "status": "completed"
    },
    "tags": []
   },
   "outputs": [
    {
     "name": "stderr",
     "output_type": "stream",
     "text": [
      "/opt/conda/lib/python3.7/site-packages/ipykernel_launcher.py:9: DeprecationWarning: `np.str` is a deprecated alias for the builtin `str`. To silence this warning, use `str` by itself. Doing this will not modify any behavior and is safe. If you specifically wanted the numpy scalar type, use `np.str_` here.\n",
      "Deprecated in NumPy 1.20; for more details and guidance: https://numpy.org/devdocs/release/1.20.0-notes.html#deprecations\n",
      "  if __name__ == \"__main__\":\n"
     ]
    },
    {
     "name": "stdout",
     "output_type": "stream",
     "text": [
      "Batch 100 / 2492\n",
      "Batch 200 / 2492\n",
      "Batch 300 / 2492\n",
      "Batch 400 / 2492\n",
      "Batch 500 / 2492\n",
      "Batch 600 / 2492\n",
      "Batch 700 / 2492\n",
      "Batch 800 / 2492\n",
      "Batch 900 / 2492\n",
      "Batch 1000 / 2492\n",
      "Batch 1100 / 2492\n",
      "Batch 1200 / 2492\n",
      "Batch 1300 / 2492\n",
      "Batch 1400 / 2492\n",
      "Batch 1500 / 2492\n",
      "Batch 1600 / 2492\n",
      "Batch 1700 / 2492\n",
      "Batch 1800 / 2492\n",
      "Batch 1900 / 2492\n",
      "Batch 2000 / 2492\n",
      "Batch 2100 / 2492\n",
      "Batch 2200 / 2492\n",
      "Batch 2300 / 2492\n",
      "Batch 2400 / 2492\n",
      "(79727,)\n"
     ]
    }
   ],
   "source": [
    "# predict on test set\n",
    "predictions = np.array(['img,c0,c1,c2,c3,c4,c5,c6,c7,c8,c9'])\n",
    "batch_count = 1\n",
    "for (test, fn) in test_ds:\n",
    "  if batch_count % 100 == 0:\n",
    "    print('Batch', batch_count, '/', len(test_ds))\n",
    "  batch_count += 1\n",
    "  pred = model(test)\n",
    "\n",
    "  fn = np.array(fn, dtype=np.str)\n",
    "  pred = np.array(pred)\n",
    "  fn = fn.reshape(-1, 1)\n",
    "  data = np.concatenate((fn, pred), axis=1)\n",
    "  for result in data:\n",
    "    predictions = np.append(predictions, ','.join(result))\n",
    "\n",
    "print(predictions.shape)\n",
    "np.savetxt('/kaggle/working/submission.csv', predictions, fmt='%s')"
   ]
  },
  {
   "cell_type": "code",
   "execution_count": 15,
   "metadata": {
    "execution": {
     "iopub.execute_input": "2023-04-29T10:40:09.977109Z",
     "iopub.status.busy": "2023-04-29T10:40:09.976731Z",
     "iopub.status.idle": "2023-04-29T10:40:10.618330Z",
     "shell.execute_reply": "2023-04-29T10:40:10.617066Z"
    },
    "papermill": {
     "duration": 3.965256,
     "end_time": "2023-04-29T10:40:10.622050",
     "exception": false,
     "start_time": "2023-04-29T10:40:06.656794",
     "status": "completed"
    },
    "tags": []
   },
   "outputs": [
    {
     "name": "stderr",
     "output_type": "stream",
     "text": [
      "/opt/conda/lib/python3.7/site-packages/ipykernel_launcher.py:2: DeprecationWarning: `np.str` is a deprecated alias for the builtin `str`. To silence this warning, use `str` by itself. Doing this will not modify any behavior and is safe. If you specifically wanted the numpy scalar type, use `np.str_` here.\n",
      "Deprecated in NumPy 1.20; for more details and guidance: https://numpy.org/devdocs/release/1.20.0-notes.html#deprecations\n",
      "  \n"
     ]
    },
    {
     "name": "stdout",
     "output_type": "stream",
     "text": [
      "(79727,)\n"
     ]
    }
   ],
   "source": [
    "# remove full file paths from submission file\n",
    "from numpy import loadtxt\n",
    "lines = loadtxt(\"/kaggle/working/submission.csv\", delimiter=\"\\n\", unpack=False, dtype=np.str)\n",
    "print(lines.shape)\n",
    "for idx, val in enumerate(lines):\n",
    "    lines[idx] = val.split('/')[-1]\n",
    "np.savetxt('/kaggle/working/submission_postproc.csv', lines, fmt='%s')"
   ]
  },
  {
   "cell_type": "code",
   "execution_count": null,
   "metadata": {
    "papermill": {
     "duration": 3.186013,
     "end_time": "2023-04-29T10:40:17.096196",
     "exception": false,
     "start_time": "2023-04-29T10:40:13.910183",
     "status": "completed"
    },
    "tags": []
   },
   "outputs": [],
   "source": []
  }
 ],
 "metadata": {
  "kernelspec": {
   "display_name": "Python 3",
   "language": "python",
   "name": "python3"
  },
  "language_info": {
   "codemirror_mode": {
    "name": "ipython",
    "version": 3
   },
   "file_extension": ".py",
   "mimetype": "text/x-python",
   "name": "python",
   "nbconvert_exporter": "python",
   "pygments_lexer": "ipython3",
   "version": "3.6.5"
  },
  "papermill": {
   "default_parameters": {},
   "duration": 15374.740254,
   "end_time": "2023-04-29T10:40:23.470199",
   "environment_variables": {},
   "exception": null,
   "input_path": "__notebook__.ipynb",
   "output_path": "__notebook__.ipynb",
   "parameters": {},
   "start_time": "2023-04-29T06:24:08.729945",
   "version": "2.4.0"
  }
 },
 "nbformat": 4,
 "nbformat_minor": 5
}
